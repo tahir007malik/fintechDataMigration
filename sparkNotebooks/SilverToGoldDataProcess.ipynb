{
  "cells": [
    {
      "cell_type": "code",
      "execution_count": 7,
      "metadata": {},
      "outputs": [
        {
          "data": {
            "application/vnd.livy.statement-meta+json": {
              "execution_finish_time": "2024-08-30T15:50:18.1353298Z",
              "execution_start_time": "2024-08-30T15:50:17.6016128Z",
              "livy_statement_state": "available",
              "normalized_state": "finished",
              "parent_msg_id": "01dcd36c-9e8e-4c65-9391-5298725d2abf",
              "queued_time": "2024-08-30T15:50:17.4516709Z",
              "session_id": "6",
              "session_start_time": null,
              "spark_jobs": null,
              "spark_pool": "gdssparkpool",
              "state": "finished",
              "statement_id": 8,
              "statement_ids": [
                8
              ]
            },
            "text/plain": [
              "StatementMeta(gdssparkpool, 6, 8, Finished, Available, Finished)"
            ]
          },
          "metadata": {},
          "output_type": "display_data"
        }
      ],
      "source": [
        "from pyspark.sql.functions import *\n",
        "\n",
        "# Define paths\n",
        "silver_base_path = \"abfss://silver@tahirfintech.dfs.core.windows.net/\"\n",
        "output_base_path = \"abfss://gold@tahirfintech.dfs.core.windows.net/\"\n",
        "\n",
        "# Load data from the silver layer\n",
        "accounts_df = spark.read.format(\"delta\").load(f\"{silver_base_path}Accounts/\")\n",
        "customers_df = spark.read.format(\"delta\").load(f\"{silver_base_path}Customers/\")\n",
        "loans_df = spark.read.format(\"delta\").load(f\"{silver_base_path}Loans/\")\n",
        "payments_df = spark.read.format(\"delta\").load(f\"{silver_base_path}Payments/\")\n",
        "transactions_df = spark.read.format(\"delta\").load(f\"{silver_base_path}Transactions/\")\n",
        "\n",
        "dim_customers_df = customers_df.select(\n",
        "    col(\"CustomerID\").alias(\"customer_id\"),\n",
        "    col(\"FirstName\").alias(\"first_name\"),\n",
        "    col(\"LastName\").alias(\"last_name\"),\n",
        "    col(\"Email\").alias(\"email\"),\n",
        "    col(\"PhoneNumber\").alias(\"phone_number\"),\n",
        "    col(\"Address\").alias(\"address\"),\n",
        "    col(\"City\").alias(\"city\"),\n",
        "    col(\"State\").alias(\"state\"),\n",
        "    col(\"Country\").alias(\"country\"),\n",
        "    col(\"ZipCode\").alias(\"zip_code\"),\n",
        "    col(\"SignupDate\").alias(\"signup_date\")\n",
        ")\n",
        "\n",
        "dim_customers_df.write.format(\"delta\").mode(\"overwrite\").save(f\"{output_base_path}dim_customers/\")\n",
        "\n",
        "dim_accounts_df = accounts_df.select(\n",
        "    col(\"AccountID\").alias(\"account_id\"),\n",
        "    col(\"AccountType\").alias(\"account_type\"),\n",
        "    col(\"Balance\").alias(\"balance\"),\n",
        "    col(\"OpenDate\").alias(\"open_date\"),\n",
        "    col(\"AccountAgeYears\").alias(\"account_age_years\")\n",
        ")\n",
        "\n",
        "dim_accounts_df.write.format(\"delta\").mode(\"overwrite\").save(f\"{output_base_path}dim_accounts/\")\n",
        "\n",
        "dim_loans_df = loans_df.select(\n",
        "    col(\"LoanID\").alias(\"loan_id\"),\n",
        "    col(\"LoanType\").alias(\"loan_type\"),\n",
        "    col(\"LoanAmount\").alias(\"loan_amount\"),\n",
        "    col(\"InterestRate\").alias(\"interest_rate\"),\n",
        "    col(\"LoanStartDate\").alias(\"loan_start_date\"),\n",
        "    col(\"LoanEndDate\").alias(\"loan_end_date\"),\n",
        "    col(\"TotalInterest\").alias(\"total_interest\"),\n",
        "    col(\"LoanDurationYears\").alias(\"loan_duration_years\")\n",
        ")\n",
        "\n",
        "dim_loans_df.write.format(\"delta\").mode(\"overwrite\").save(f\"{output_base_path}dim_loans/\")\n",
        "\n",
        "fact_payments_df = payments_df \\\n",
        "    .join(loans_df.select(\"LoanID\", \"CustomerID\"), \"LoanID\") \\\n",
        "    .select(\n",
        "        col(\"PaymentID\").alias(\"payment_id\"),\n",
        "        col(\"LoanID\").alias(\"loan_id\"),\n",
        "        col(\"CustomerID\").alias(\"customer_id\"),\n",
        "        col(\"PaymentDate\").alias(\"payment_date\"),\n",
        "        col(\"PaymentAmount\").alias(\"payment_amount\"),\n",
        "        col(\"PaymentMethod\").alias(\"payment_method\")\n",
        "    )\n",
        "\n",
        "fact_payments_df.write.format(\"delta\").mode(\"overwrite\").save(f\"{output_base_path}fact_payments/\")\n",
        "\n",
        "fact_transactions_df = transactions_df \\\n",
        "    .join(accounts_df.select(\"AccountID\", \"CustomerID\"), \"AccountID\") \\\n",
        "    .select(\n",
        "        col(\"TransactionID\").alias(\"transaction_id\"),\n",
        "        col(\"AccountID\").alias(\"account_id\"),\n",
        "        col(\"CustomerID\").alias(\"customer_id\"),\n",
        "        col(\"TransactionDate\").alias(\"transaction_date\"),\n",
        "        col(\"Amount\").alias(\"amount\"),\n",
        "        col(\"TransactionType\").alias(\"transaction_type\"),\n",
        "        col(\"Description\").alias(\"description\")\n",
        "    )\n",
        "\n",
        "fact_transactions_df.write.format(\"delta\").mode(\"overwrite\").save(f\"{output_base_path}fact_transactions/\")"
      ]
    }
  ],
  "metadata": {
    "description": null,
    "kernelspec": {
      "display_name": "python",
      "name": "synapse_pyspark"
    },
    "language_info": {
      "name": "python"
    },
    "save_output": true,
    "synapse_widget": {
      "state": {},
      "version": "0.1"
    }
  },
  "nbformat": 4,
  "nbformat_minor": 2
}
